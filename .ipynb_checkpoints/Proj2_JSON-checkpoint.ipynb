{
 "cells": [
  {
   "cell_type": "code",
   "execution_count": 1,
   "metadata": {},
   "outputs": [],
   "source": [
    "#Documentation for yfinance https://pypi.org/project/yfinance/\n",
    "\n",
    "import yfinance as yf\n",
    "from sqlalchemy import create_engine\n",
    "import pandas as pd"
   ]
  },
  {
   "cell_type": "markdown",
   "metadata": {},
   "source": [
    "# Beginning of Stage 2 - Read stock price database tables from PostgreSQL and save as JSON files. One file for each stock.  \n",
    "JSON File format:  \n",
    "{Date: {Open: price, High: price, Low: price, Close: price, Volume: shares, Dividends: amount, Stock Spits: amount },  \n",
    "Date: {Open: price, High: price, Low: price, Close: price, Volume: shares, Dividends: amount, Stock Spits: amount },...  \n",
    "Date: {Open: price, High: price, Low: price, Close: price, Volume: shares, Dividends: amount, Stock Spits: amount }}\n"
   ]
  },
  {
   "cell_type": "code",
   "execution_count": 2,
   "metadata": {},
   "outputs": [],
   "source": [
    "#Connect to PostgreSQL\n",
    "\n",
    "host = \"localhost\"\n",
    "user = \"postgres\"\n",
    "port = \"5432\"\n",
    "passwd = \"hawkeyes\"\n",
    "db = \"Proj2_stock_data\"\n",
    "\n",
    "engine = create_engine(f'postgresql://{user}:{passwd}@{host}:{port}/{db}')\n",
    "connection = engine.connect()\n"
   ]
  },
  {
   "cell_type": "code",
   "execution_count": 3,
   "metadata": {},
   "outputs": [],
   "source": [
    "#Function to create a dataframe from a PostgreSQL query\n",
    "def create_pandas_table(sql_query, database = connection):\n",
    "    table = pd.read_sql_query(sql_query, database)\n",
    "    return table"
   ]
  },
  {
   "cell_type": "code",
   "execution_count": 4,
   "metadata": {},
   "outputs": [],
   "source": [
    "#Query each stock's PostgreSQL table and convert to dataframe\n",
    "\n",
    "gspc_df = create_pandas_table('SELECT * FROM public.\"GSPC_hist\"')\n",
    "n225_df = create_pandas_table('SELECT * FROM public.\"N225_hist\"')\n",
    "hsi_df = create_pandas_table('SELECT * FROM public.\"HSI_hist\"')\n",
    "ssec_df = create_pandas_table('SELECT * FROM public.\"SSEC_hist\"')\n",
    "\n",
    "connection.close()"
   ]
  },
  {
   "cell_type": "code",
   "execution_count": 5,
   "metadata": {},
   "outputs": [],
   "source": [
    "# Set the date as the dataframe index for each stock price dataframe\n",
    "\n",
    "gspc_df = gspc_df.set_index('Date')\n",
    "n225_df = n225_df.set_index('Date')\n",
    "hsi_df = hsi_df.set_index('Date')\n",
    "ssec_df = ssec_df.set_index('Date')\n"
   ]
  },
  {
   "cell_type": "code",
   "execution_count": 6,
   "metadata": {},
   "outputs": [],
   "source": [
    "# Convert dataframe to JSON file. To be set at the URL destination for the relevant stock\n",
    "\n",
    "gspc_df.to_json(\"gspc_hist.json\", orient='index')\n",
    "n225_df.to_json(\"n225_hist.json\", orient='index')\n",
    "hsi_df.to_json(\"hsi_hist.json\", orient='index')\n",
    "ssec_df.to_json(\"ssec_hist.json\", orient='index')\n"
   ]
  },
  {
   "cell_type": "markdown",
   "metadata": {},
   "source": [
    "# End of Stage 2 - JSON files can be pushed to endpoint URL's for each stock using Flask.  \n",
    "For example:  \n",
    "http://project2/gspc\n",
    "http://project2/n225\n",
    "http://project2/hsi\n",
    "http://project2/ssec . \n",
    "  \n",
    "This data can then be pulled into Javascript using d3.json and then used for table data.\n"
   ]
  }
 ],
 "metadata": {
  "kernelspec": {
   "display_name": "Python 3",
   "language": "python",
   "name": "python3"
  },
  "language_info": {
   "codemirror_mode": {
    "name": "ipython",
    "version": 3
   },
   "file_extension": ".py",
   "mimetype": "text/x-python",
   "name": "python",
   "nbconvert_exporter": "python",
   "pygments_lexer": "ipython3",
   "version": "3.6.10"
  }
 },
 "nbformat": 4,
 "nbformat_minor": 2
}
